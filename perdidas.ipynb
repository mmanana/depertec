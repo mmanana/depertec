{
 "cells": [
  {
   "cell_type": "markdown",
   "metadata": {},
   "source": [
    "# Line Loss Analysis and Calcualtion of Electric Power Sustems\n",
    "\n",
    "Demo Notebook for testing the library cable.py"
   ]
  },
  {
   "cell_type": "code",
   "execution_count": 3,
   "metadata": {},
   "outputs": [
    {
     "name": "stdout",
     "output_type": "stream",
     "text": [
      "3.8.5 (default, Sep  4 2020, 07:30:14) \n",
      "[GCC 7.3.0]\n"
     ]
    }
   ],
   "source": [
    "import sys\n",
    "print(sys.version)"
   ]
  },
  {
   "cell_type": "code",
   "execution_count": 4,
   "metadata": {},
   "outputs": [],
   "source": [
    "import math\n",
    "import numpy as np\n",
    "import scipy.integrate as integrate\n",
    "%matplotlib inline\n",
    "import matplotlib.pyplot as plt\n",
    "from matplotlib.patches import Circle, Wedge, Polygon, Ellipse\n",
    "from matplotlib.collections import PatchCollection\n",
    "from IPython.display import Image, HTML, SVG, YouTubeVideo\n",
    "import xml.etree.cElementTree as ET"
   ]
  },
  {
   "cell_type": "code",
   "execution_count": 5,
   "metadata": {},
   "outputs": [],
   "source": [
    "import cable"
   ]
  },
  {
   "cell_type": "code",
   "execution_count": null,
   "metadata": {},
   "outputs": [],
   "source": [
    "C0 = cable.Conductor(Rdc=0.2, f=50, Di=0.6, Do=1, I=100.0, S=250)\n",
    "print( C0.fget_version())"
   ]
  },
  {
   "cell_type": "code",
   "execution_count": 6,
   "metadata": {},
   "outputs": [
    {
     "name": "stdout",
     "output_type": "stream",
     "text": [
      "Line Loss Analysis Library. v0.04\n"
     ]
    }
   ],
   "source": [
    "C21 = cable.Conductor()\n",
    "print(C21.fget_version())"
   ]
  },
  {
   "cell_type": "code",
   "execution_count": 13,
   "metadata": {},
   "outputs": [
    {
     "name": "stdout",
     "output_type": "stream",
     "text": [
      "+++++++++++++++++++++++++++++++\n",
      "RZ_0.6/1.0_kV_4x10_CU\n",
      "Rdc 1.8323\n",
      "T0 20.0\n",
      "Di 0.0\n",
      "Do 1.784\n"
     ]
    }
   ],
   "source": [
    "C21.fload_library( \"RZ_0.6/1.0_kV_4x10_CU\")"
   ]
  },
  {
   "cell_type": "code",
   "execution_count": 12,
   "metadata": {},
   "outputs": [
    {
     "data": {
      "text/plain": [
       "2.0104308101969015"
      ]
     },
     "execution_count": 12,
     "metadata": {},
     "output_type": "execute_result"
    }
   ],
   "source": [
    "C21.fcompute_r()"
   ]
  },
  {
   "cell_type": "code",
   "execution_count": 10,
   "metadata": {},
   "outputs": [
    {
     "data": {
      "text/plain": [
       "20.0"
      ]
     },
     "execution_count": 10,
     "metadata": {},
     "output_type": "execute_result"
    }
   ],
   "source": [
    "C21.fget_t1()"
   ]
  },
  {
   "cell_type": "code",
   "execution_count": 11,
   "metadata": {},
   "outputs": [],
   "source": [
    "C21.fset_t1(45)"
   ]
  },
  {
   "cell_type": "code",
   "execution_count": null,
   "metadata": {},
   "outputs": [],
   "source": []
  },
  {
   "cell_type": "code",
   "execution_count": null,
   "metadata": {},
   "outputs": [],
   "source": []
  },
  {
   "cell_type": "code",
   "execution_count": null,
   "metadata": {},
   "outputs": [],
   "source": []
  },
  {
   "cell_type": "code",
   "execution_count": null,
   "metadata": {},
   "outputs": [],
   "source": []
  },
  {
   "cell_type": "code",
   "execution_count": null,
   "metadata": {},
   "outputs": [],
   "source": [
    "C1 = cable.Conductor( Rdc=0.2, f=50, Di=0.6, Do=1, I=100.0, S=250)\n",
    "interior = C1.fget_di()\n",
    "exterior = C1.fget_do()\n",
    "T1 = C1.fget_t1()\n",
    "print('Dinterior: ' + str(interior) + '; Dexterior: ' + str(exterior) + '; T1: ' + str(T1))\n",
    "Rac = C1.fcompute_r()\n",
    "print('Rac: ' + str(Rac))\n",
    "\n",
    "\n",
    "C1.fset_t1(15)\n",
    "interior = C1.fget_di()\n",
    "exterior = C1.fget_do()\n",
    "print('Dinterior: ' + str(interior) + '; Dexterior: ' + str(exterior))\n",
    "Rac = C1.fcompute_r()\n",
    "print('Rac: ' + str(Rac))"
   ]
  },
  {
   "cell_type": "code",
   "execution_count": null,
   "metadata": {},
   "outputs": [],
   "source": [
    "def fResistanceHeatLoss( I):\n",
    "    error = 1 # error: 0 No error; 1 error\n",
    "    R = 0.1 # Resistance\n",
    "    P = R*I*I\n",
    "    return( P, error)"
   ]
  },
  {
   "cell_type": "code",
   "execution_count": null,
   "metadata": {},
   "outputs": [],
   "source": []
  },
  {
   "cell_type": "code",
   "execution_count": null,
   "metadata": {},
   "outputs": [],
   "source": [
    "P1, e1 = fResistanceHeatLoss( 10)\n",
    "print('P: ' + str(P1) + '; error: ' + str(e1))"
   ]
  },
  {
   "cell_type": "code",
   "execution_count": null,
   "metadata": {},
   "outputs": [],
   "source": []
  },
  {
   "cell_type": "code",
   "execution_count": null,
   "metadata": {},
   "outputs": [],
   "source": [
    "cable_library = ET.ElementTree( file=r'./cable_library.xml')\n",
    "cable_library_root = cable_library.getroot()\n",
    "# cables = cable_library_root.getchildren()"
   ]
  },
  {
   "cell_type": "code",
   "execution_count": null,
   "metadata": {},
   "outputs": [],
   "source": [
    "for children in cable_library_root:\n",
    "    #print( childrem.tag, childrem.attrib)\n",
    "    print(\"+++++++++++++++++++++++++++++++\")\n",
    "    print(children.attrib[\"name\"])\n",
    "    for child in children:\n",
    "        print( child.tag, child.text)"
   ]
  },
  {
   "cell_type": "code",
   "execution_count": null,
   "metadata": {},
   "outputs": [],
   "source": [
    "for children in cable_library_root:\n",
    "    #print( childrem.tag, childrem.attrib)\n",
    "    if children.attrib[\"name\"]==\"RZ_0.6/1.0_kV_4x16_CU\":\n",
    "        print(\"+++++++++++++++++++++++++++++++\")\n",
    "        print(children.attrib[\"name\"])\n",
    "        for child in children:\n",
    "            print( child.tag, child.text)\n",
    "            x = float(child.text)\n",
    "            print(str(x))"
   ]
  },
  {
   "cell_type": "code",
   "execution_count": null,
   "metadata": {},
   "outputs": [],
   "source": [
    "for ecable in cables:\n",
    "    l1 = ecable.getchildren()\n",
    "    print(l1.tag, l1.)\n",
    "    #print(\"%s=%s\" % (l1.tag, l1.text))\n",
    "    for a1 in l1:\n",
    "        print(\"%s=%s\" % (a1.tag, a1.text))"
   ]
  },
  {
   "cell_type": "code",
   "execution_count": null,
   "metadata": {},
   "outputs": [],
   "source": [
    "p = cables.find(\"RZ_0.6/1.0_kV_4x10_CU\")\n",
    "print(p)"
   ]
  },
  {
   "cell_type": "code",
   "execution_count": null,
   "metadata": {},
   "outputs": [],
   "source": [
    "#Image(filename='./xxx.png',width=600)"
   ]
  },
  {
   "cell_type": "code",
   "execution_count": null,
   "metadata": {},
   "outputs": [],
   "source": [
    "#patches = []\n",
    "#fig, ax = plt.subplots()\n",
    "#txpoint = Ellipse((x,y),w,h)\n",
    "#patches.append(txpoint)\n",
    "\n",
    "#colors = 100 * np.random.rand(len(patches))\n",
    "#p = PatchCollection(patches, alpha=0.4)\n",
    "#p.set_array(colors)\n",
    "#ax.add_collection(p)\n",
    "\n",
    "#ax.text(x, y, r'Text', fontsize=9)\n",
    "\n",
    "#ax.plot(t,it,label='')\n",
    "#ax.plot(t,it90,label='')\n",
    "\n",
    "#ax.axis([, , , ])\n",
    "#ax.set_xlabel('')\n",
    "#ax.set_ylabel('')\n",
    "\n",
    "#ax.grid()\n",
    "#ax.legend()"
   ]
  },
  {
   "cell_type": "code",
   "execution_count": null,
   "metadata": {},
   "outputs": [],
   "source": []
  }
 ],
 "metadata": {
  "kernelspec": {
   "display_name": "Python 3",
   "language": "python",
   "name": "python3"
  },
  "language_info": {
   "codemirror_mode": {
    "name": "ipython",
    "version": 3
   },
   "file_extension": ".py",
   "mimetype": "text/x-python",
   "name": "python",
   "nbconvert_exporter": "python",
   "pygments_lexer": "ipython3",
   "version": "3.8.5"
  }
 },
 "nbformat": 4,
 "nbformat_minor": 4
}
